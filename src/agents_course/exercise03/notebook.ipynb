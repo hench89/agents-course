{
 "cells": [
  {
   "cell_type": "code",
   "execution_count": 19,
   "id": "278ac37c",
   "metadata": {},
   "outputs": [
    {
     "data": {
      "text/plain": [
       "True"
      ]
     },
     "execution_count": 19,
     "metadata": {},
     "output_type": "execute_result"
    }
   ],
   "source": [
    "from typing import TypedDict, List, Dict, Any, Optional\n",
    "from dotenv import load_dotenv\n",
    "import os\n",
    "\n",
    "from IPython.display import Image, display\n",
    "\n",
    "from langgraph.graph import StateGraph, START, END\n",
    "from langchain_core.messages import HumanMessage\n",
    "from langchain_openai import AzureChatOpenAI\n",
    "\n",
    "load_dotenv()\n"
   ]
  },
  {
   "cell_type": "markdown",
   "id": "640490f4",
   "metadata": {},
   "source": [
    "## dummy graph to classify spam/ham\n"
   ]
  },
  {
   "cell_type": "code",
   "execution_count": null,
   "id": "44e86698",
   "metadata": {},
   "outputs": [],
   "source": [
    "model = AzureChatOpenAI(azure_deployment=os.getenv(\"AZURE_OPENAI_GPT4O_DEPLOYMENT_NAME\"), temperature=0)\n",
    "\n",
    "\n",
    "class EmailState(TypedDict):\n",
    "    email: Dict[str, Any]\n",
    "    email_category: Optional[str]\n",
    "    spam_reason: Optional[str]\n",
    "    is_spam: Optional[bool]\n",
    "    email_draft: Optional[str]\n",
    "    messages: List[Dict[str, Any]]\n",
    "\n",
    "\n",
    "def read_email(state: EmailState):\n",
    "    print(\"Agent has received an email from {} with subject: {}. Agent will start processing it!\".format(\n",
    "        state[\"email\"][\"sender\"],\n",
    "        state[\"email\"][\"subject\"]\n",
    "    ))\n",
    "    return {}\n",
    "\n",
    "\n",
    "def classify_email_using_llm(state: EmailState):\n",
    "    prompt = \"\"\"\n",
    "    Please analyze the below email and return information about it.\n",
    "    The response should be in the three following sections:\n",
    "\n",
    "    The first section should argue whether the email is spam or not.\n",
    "    The response should be short and to the point and focus on email content only.\n",
    "\n",
    "    The second section should take the conclusion from the first section and classify the email spam/legitimate.\n",
    "    Return one word only. If spam write \"spam\" otherwise \"legitimate\".\n",
    "\n",
    "    The third section should classify the email into one or the following categories:\n",
    "    \"inquiry\", \"complaint\", \"thank_you\", \"request\", \"information\", or \"other\"\n",
    "    The section should be a single word only.\n",
    "\n",
    "    Each section should be separated by 5 dashes, like this: =====\n",
    "\n",
    "    -------------------------------\n",
    "\n",
    "    Email:\n",
    "    From: {}\n",
    "    Subject: {}\n",
    "    Body: {}\n",
    "    \"\"\".format(\n",
    "        state[\"email\"][\"sender\"],\n",
    "        state[\"email\"][\"subject\"],\n",
    "        state[\"email\"][\"body\"]\n",
    "    )\n",
    "\n",
    "\n",
    "    messages = [HumanMessage(content=prompt)]\n",
    "    response = model.invoke(messages)\n",
    "    response_text = response.content.lower()\n",
    "\n",
    "    sections = response_text.split(\"=====\")\n",
    "\n",
    "    spam_reason = sections[0].replace('\\n', '').strip()\n",
    "    is_spam = \"SPAM\" in sections[1].upper()\n",
    "    email_category = sections[2].replace('\\n', '').strip()\n",
    "\n",
    "    messages = state.get(\"messages\", [])\n",
    "    if not is_spam:\n",
    "        messages.append({\"role\": \"user\", \"content\": prompt})\n",
    "        messages.append({\"role\": \"assistant\", \"content\": response.content})\n",
    "\n",
    "    print(f\"Agent has classified the email. {is_spam=}, {email_category=}\")\n",
    "\n",
    "    return {\n",
    "        \"is_spam\": is_spam,\n",
    "        \"spam_reason\": spam_reason,\n",
    "        \"email_category\": email_category,\n",
    "        \"messages\": messages\n",
    "    }\n",
    "\n",
    "\n",
    "\n",
    "def handle_spam(state: EmailState):\n",
    "    print(\"Agent has moved to the spam folder. Reason: {}\".format(\n",
    "        state['spam_reason']\n",
    "    ))\n",
    "    return {}\n",
    "\n",
    "\n",
    "def draft_response(state: EmailState):\n",
    "    prompt = \"\"\"\n",
    "    Draft a polite preliminary response to this email.\n",
    "\n",
    "    From: {}\n",
    "    Subject: {}\n",
    "    Body: {}\n",
    "\n",
    "    This email has been categorized as: {}\n",
    "\n",
    "    Draft a brief, professional response that a user may review and personalize before sending.\n",
    "    \"\"\".format(\n",
    "        state[\"email\"][\"sender\"],\n",
    "        state[\"email\"][\"subject\"],\n",
    "        state[\"email\"][\"body\"],\n",
    "        state[\"email_category\"] or \"general\"\n",
    "    )\n",
    "\n",
    "    messages = [HumanMessage(content=prompt)]\n",
    "    response = model.invoke(messages)\n",
    "    messages = state.get(\"messages\", [])\n",
    "    messages.append({\"role\": \"user\", \"content\": prompt})\n",
    "    messages.append({\"role\": \"assistant\", \"content\": response.content})\n",
    "\n",
    "    return {\n",
    "        \"email_draft\": response.content,\n",
    "        \"messages\": messages\n",
    "    }\n",
    "\n",
    "\n",
    "def notify_user(state: EmailState):\n",
    "    email = state[\"email\"]\n",
    "    print(\"\\n\" + \"=\"*50)\n",
    "    print(f\"Dear Sir or Madam\")\n",
    "    print(f\"You have received an email from {email['sender']}.\")\n",
    "    print(f\"Subject: {email['subject']}\")\n",
    "    print(f\"Category: {state['email_category']}\")\n",
    "    print(\"\\nI've prepared a draft response for your review:\")\n",
    "    print(\"-\"*50)\n",
    "    print(state[\"email_draft\"])\n",
    "    print(\"=\"*50 + \"\\n\")\n",
    "\n",
    "    return {}\n",
    "\n",
    "\n",
    "def route_email(state: EmailState) -> str:\n",
    "    return \"spam\" if state[\"is_spam\"] else \"legitimate\"\n"
   ]
  },
  {
   "cell_type": "code",
   "execution_count": 27,
   "id": "101bb456",
   "metadata": {},
   "outputs": [
    {
     "data": {
      "image/png": "[encoded data removed]",
      "text/plain": [
       "<IPython.core.display.Image object>"
      ]
     },
     "metadata": {},
     "output_type": "display_data"
    }
   ],
   "source": [
    "# build the graph to sequence the logical steps/workflow of our agent\n",
    "\n",
    "builder = StateGraph(EmailState)\n",
    "\n",
    "builder.add_node(\"read_email\", read_email)\n",
    "builder.add_node(\"classify_email\", classify_email_using_llm)\n",
    "builder.add_node(\"handle_spam\", handle_spam)\n",
    "builder.add_node(\"draft_response\", draft_response)\n",
    "builder.add_node(\"notify_user\", notify_user)\n",
    "\n",
    "builder.add_edge(START, \"read_email\")\n",
    "builder.add_edge(\"read_email\", \"classify_email\")\n",
    "builder.add_conditional_edges(\n",
    "    \"classify_email\",\n",
    "    route_email,\n",
    "    {\n",
    "        \"spam\": \"handle_spam\",\n",
    "        \"legitimate\": \"draft_response\"\n",
    "    }\n",
    ")\n",
    "builder.add_edge(\"handle_spam\", END)\n",
    "builder.add_edge(\"draft_response\", \"notify_user\")\n",
    "builder.add_edge(\"notify_user\", END)\n",
    "app = builder.compile()\n",
    "\n",
    "display(Image(app.get_graph().draw_mermaid_png()))\n"
   ]
  },
  {
   "cell_type": "markdown",
   "id": "78f25b18",
   "metadata": {},
   "source": [
    "# apply agent workflow\n"
   ]
  },
  {
   "cell_type": "code",
   "execution_count": 28,
   "id": "ea033b9e",
   "metadata": {},
   "outputs": [
    {
     "name": "stdout",
     "output_type": "stream",
     "text": [
      "Agent has received an email from john.smith@example.com with subject: Question about your services. Agent will start processing it!\n",
      "Agent has classified the email. is_spam=False, email_category='inquiry'\n",
      "\n",
      "==================================================\n",
      "Dear Sir or Madam\n",
      "You have received an email from john.smith@example.com.\n",
      "Subject: Question about your services\n",
      "Category: inquiry\n",
      "\n",
      "I've prepared a draft response for your review:\n",
      "--------------------------------------------------\n",
      "Subject: Re: Question about our services\n",
      "\n",
      "Dear Mr. Smith,\n",
      "\n",
      "Thank you for reaching out and for your interest in our consulting services. I would be delighted to discuss how we can assist you. Please let me know your availability for a call next week, and I will do my best to accommodate.\n",
      "\n",
      "Looking forward to our conversation.\n",
      "\n",
      "Best regards,\n",
      "\n",
      "[Your Name]  \n",
      "[Your Position]  \n",
      "[Your Company]  \n",
      "[Your Contact Information]\n",
      "==================================================\n",
      "\n"
     ]
    }
   ],
   "source": [
    "legitimate_email = {\n",
    "    \"sender\": \"john.smith@example.com\",\n",
    "    \"subject\": \"Question about your services\",\n",
    "    \"body\": \"Dear Mr. James, I was referred to you by a colleague and I'm interested in learning more about your consulting services. Could we schedule a call next week? Best regards, John Smith\"\n",
    "}\n",
    "legitimate_result = app.invoke({\n",
    "    \"email\": legitimate_email,\n",
    "    \"is_spam\": None,\n",
    "    \"spam_reason\": None,\n",
    "    \"email_category\": None,\n",
    "    \"email_draft\": None,\n",
    "    \"messages\": []\n",
    "})\n"
   ]
  },
  {
   "cell_type": "code",
   "execution_count": 29,
   "id": "9ac5cb68",
   "metadata": {},
   "outputs": [
    {
     "name": "stdout",
     "output_type": "stream",
     "text": [
      "Agent has received an email from winner@lottery-intl.com with subject: YOU HAVE WON $5,000,000!!!. Agent will start processing it!\n",
      "Agent has classified the email. is_spam=True, email_category='other'\n",
      "Agent has moved to the spam folder. Reason: the first section should argue whether the email is spam or not.this email exhibits several characteristics commonly associated with spam. the sender's email address, \"winner@lottery-intl.com,\" is not from a recognized or reputable organization. the subject line, \"you have won $5,000,000!!!,\" uses excessive capitalization and exclamation marks, which are typical of spam emails designed to grab attention. the body of the email promises a large sum of money in exchange for personal information and a processing fee, which is a classic sign of a scam. legitimate lotteries do not require winners to pay fees to claim their prizes, and they do not ask for sensitive information like bank details via email.\n"
     ]
    }
   ],
   "source": [
    "spam_email = {\n",
    "    \"sender\": \"winner@lottery-intl.com\",\n",
    "    \"subject\": \"YOU HAVE WON $5,000,000!!!\",\n",
    "    \"body\": \"CONGRATULATIONS! You have been selected as the winner of our international lottery! To claim your $5,000,000 prize, please send us your bank details and a processing fee of $100.\"\n",
    "}\n",
    "spam_result = app.invoke({\n",
    "    \"email\": spam_email,\n",
    "    \"is_spam\": None,\n",
    "    \"spam_reason\": None,\n",
    "    \"email_category\": None,\n",
    "    \"email_draft\": None,\n",
    "    \"messages\": []\n",
    "})\n"
   ]
  },
  {
   "cell_type": "code",
   "execution_count": null,
   "id": "f724b287",
   "metadata": {},
   "outputs": [
    {
     "data": {
      "text/plain": [
       "True"
      ]
     },
     "execution_count": 61,
     "metadata": {},
     "output_type": "execute_result"
    }
   ],
   "source": []
  },
  {
   "cell_type": "code",
   "execution_count": null,
   "id": "1e7e9ae9",
   "metadata": {},
   "outputs": [],
   "source": []
  }
 ],
 "metadata": {
  "kernelspec": {
   "display_name": ".venv",
   "language": "python",
   "name": "python3"
  },
  "language_info": {
   "codemirror_mode": {
    "name": "ipython",
    "version": 3
   },
   "file_extension": ".py",
   "mimetype": "text/x-python",
   "name": "python",
   "nbconvert_exporter": "python",
   "pygments_lexer": "ipython3",
   "version": "3.10.13"
  }
 },
 "nbformat": 4,
 "nbformat_minor": 5
}
